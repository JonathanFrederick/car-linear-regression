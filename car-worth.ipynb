{
 "cells": [
  {
   "cell_type": "code",
   "execution_count": 3,
   "metadata": {
    "collapsed": false
   },
   "outputs": [],
   "source": [
    "import pandas as pd\n",
    "import matplotlib.pyplot as plt\n",
    "import numpy as np\n",
    "from sklearn import linear_model\n",
    "import itertools\n",
    "\n",
    "%matplotlib inline"
   ]
  },
  {
   "cell_type": "markdown",
   "metadata": {},
   "source": [
    "# How Much is Your Car Worth?\n",
    "\n",
    "Data about the retail price of 2005 General Motors cars can be found in `car_data.csv`.\n",
    "\n",
    "The columns are:\n",
    "\n",
    "1. Price: suggested retail price of the used 2005 GM car in excellent condition.\n",
    "2. Mileage: number of miles the car has been driven\n",
    "3. Make: manufacturer of the car such as Saturn, Pontiac, and Chevrolet\n",
    "4. Model: specific models for each car manufacturer such as Ion, Vibe, Cavalier\n",
    "5. Trim (of car): specific type of car model such as SE Sedan 4D, Quad Coupe 2D          \n",
    "6. Type: body type such as sedan, coupe, etc.      \n",
    "7. Cylinder: number of cylinders in the engine        \n",
    "8. Liter: a more specific measure of engine size     \n",
    "9. Doors: number of doors           \n",
    "10. Cruise: indicator variable representing whether the car has cruise control (1 = cruise)\n",
    "11. Sound: indicator variable representing whether the car has upgraded speakers (1 = upgraded)\n",
    "12. Leather: indicator variable representing whether the car has leather seats (1 = leather)\n",
    "\n",
    "## Tasks, Part 1\n",
    "\n",
    "1. Find the linear regression equation for mileage vs price.\n",
    "2. Chart the original data and the equation on the chart.\n",
    "3. Find the equation's $R^2$ score (use the `.score` method) to determine whether the\n",
    "equation is a good fit for this data. (0.8 and greater is considered a strong correlation.)\n",
    "\n",
    "## Tasks, Part 2\n",
    "\n",
    "1. Use mileage, cylinders, liters, doors, cruise, sound, and leather to find the linear regression equation.\n",
    "2. Find the equation's $R^2$ score (use the `.score` method) to determine whether the\n",
    "equation is a good fit for this data. (0.8 and greater is considered a strong correlation.)\n",
    "3. Find the combination of the factors that is the best predictor for price.\n",
    "\n",
    "## Tasks, Part 3\n",
    "\n",
    "1. Research dummy variables in scikit-learn to see how to use the make, model, and body type.\n",
    "2. Find the best combination of factors to predict price."
   ]
  },
  {
   "cell_type": "code",
   "execution_count": 4,
   "metadata": {
    "collapsed": false
   },
   "outputs": [],
   "source": [
    "df = pd.read_csv(\"car_data.csv\")"
   ]
  },
  {
   "cell_type": "markdown",
   "metadata": {
    "collapsed": false
   },
   "source": [
    "### Part 1\n",
    "\n",
    "##### Find the linear regression equation for mileage vs price."
   ]
  },
  {
   "cell_type": "code",
   "execution_count": 5,
   "metadata": {
    "collapsed": false
   },
   "outputs": [
    {
     "name": "stdout",
     "output_type": "stream",
     "text": [
      "Price [[-0.1725205]] * Mileage + [ 24764.55900606]\n"
     ]
    }
   ],
   "source": [
    "in1 = np.array(df[['Mileage']])\n",
    "out1 = np.array(df[['Price']])\n",
    "regr1 = linear_model.LinearRegression()\n",
    "regr1.fit(in1, out1)\n",
    "print('Price', regr1.coef_, '* Mileage +', regr1.intercept_)"
   ]
  },
  {
   "cell_type": "markdown",
   "metadata": {},
   "source": [
    "##### Chart the original data and the equation on the chart."
   ]
  },
  {
   "cell_type": "code",
   "execution_count": 6,
   "metadata": {
    "collapsed": false
   },
   "outputs": [
    {
     "data": {
      "image/png": "[encoded data removed]",
      "text/plain": [
       "<matplotlib.figure.Figure at 0x10b7e60b8>"
      ]
     },
     "metadata": {},
     "output_type": "display_data"
    }
   ],
   "source": [
    "plt.scatter(in1, out1)\n",
    "plt.plot(in1, regr1.predict(in1))\n",
    "plt.xlabel('Mileage')\n",
    "plt.ylabel('Price')\n",
    "plt.title('Mileage vs. Price for used cars')\n",
    "plt.show()"
   ]
  },
  {
   "cell_type": "markdown",
   "metadata": {},
   "source": [
    "##### Find the equation's $R^2$ score (use the `.score` method) to determine whether the equation is a good fit for this data."
   ]
  },
  {
   "cell_type": "code",
   "execution_count": 7,
   "metadata": {
    "collapsed": false
   },
   "outputs": [
    {
     "data": {
      "text/plain": [
       "0.020463447323489481"
      ]
     },
     "execution_count": 7,
     "metadata": {},
     "output_type": "execute_result"
    }
   ],
   "source": [
    "regr1.score(in1, out1)"
   ]
  },
  {
   "cell_type": "markdown",
   "metadata": {},
   "source": [
    "Mileage by itself is not a good correlation for Price"
   ]
  },
  {
   "cell_type": "markdown",
   "metadata": {},
   "source": [
    "### Part 2\n",
    "\n",
    "##### Use mileage, cylinders, liters, doors, cruise, sound, and leather to find the linear regression equation."
   ]
  },
  {
   "cell_type": "code",
   "execution_count": 8,
   "metadata": {
    "collapsed": false
   },
   "outputs": [
    {
     "name": "stdout",
     "output_type": "stream",
     "text": [
      "Price = -0.169747832333 * Mileage + 3792.37893078 * Cylinder + -787.220731634 * Liter + -1542.74584638 * Doors + 6288.99714985 * Cruise + -1993.7952757 * Sound + 3349.36161961 * Leather + 6758.7551436\n"
     ]
    }
   ],
   "source": [
    "cols = ['Mileage', 'Cylinder', 'Liter', 'Doors', 'Cruise', 'Sound', 'Leather']\n",
    "in2 = np.array(df[cols])\n",
    "out2 = np.array(df[['Price']])\n",
    "regr2 = linear_model.LinearRegression()\n",
    "regr2.fit(in2, out2)\n",
    "print('Price =', end=' ')\n",
    "for i in range(7):\n",
    "    print(regr2.coef_[0][i], '*', cols[i],'+', end=' ')\n",
    "print(*regr2.intercept_)"
   ]
  },
  {
   "cell_type": "markdown",
   "metadata": {},
   "source": [
    "##### Find the equation's $R^2$ score (use the `.score` method) to determine whether the equation is a good fit for this data."
   ]
  },
  {
   "cell_type": "code",
   "execution_count": 9,
   "metadata": {
    "collapsed": false
   },
   "outputs": [
    {
     "data": {
      "text/plain": [
       "0.4462643536728379"
      ]
     },
     "execution_count": 9,
     "metadata": {},
     "output_type": "execute_result"
    }
   ],
   "source": [
    "regr2.score(in2, out2)"
   ]
  },
  {
   "cell_type": "markdown",
   "metadata": {},
   "source": [
    "All of these together are not a good correlation for price"
   ]
  },
  {
   "cell_type": "markdown",
   "metadata": {},
   "source": [
    "##### Find the combination of the factors that is the best predictor for price."
   ]
  },
  {
   "cell_type": "code",
   "execution_count": 10,
   "metadata": {
    "collapsed": false
   },
   "outputs": [],
   "source": [
    "combos = [list(itertools.combinations(cols, sz)) for sz in range(1, 7)]\n",
    "combos = list(itertools.chain.from_iterable(combos))\n",
    "combo_combo = [list(x) for x in combos]\n",
    "regrs = [linear_model.LinearRegression() \\\n",
    "         .fit(np.array(df[cols]), np.array(df[['Price']]))\n",
    "         for cols in combo_combo]\n",
    "score_sort = sorted(list(zip(combo_combo, regrs)), key=lambda x: \n",
    "                    x[1].score(np.array(df[x[0]]), \n",
    "                               np.array(df[['Price']])), \n",
    "                    reverse=True)"
   ]
  },
  {
   "cell_type": "code",
   "execution_count": 11,
   "metadata": {
    "collapsed": false
   },
   "outputs": [
    {
     "name": "stdout",
     "output_type": "stream",
     "text": [
      "0.4457 ['Mileage', 'Cylinder', 'Doors', 'Cruise', 'Sound', 'Leather']\n",
      "0.4378 ['Mileage', 'Cylinder', 'Liter', 'Doors', 'Cruise', 'Leather']\n",
      "0.4369 ['Mileage', 'Cylinder', 'Doors', 'Cruise', 'Leather']\n",
      "0.4301 ['Mileage', 'Cylinder', 'Liter', 'Cruise', 'Sound', 'Leather']\n",
      "0.4300 ['Mileage', 'Cylinder', 'Cruise', 'Sound', 'Leather']\n",
      "0.4265 ['Cylinder', 'Liter', 'Doors', 'Cruise', 'Sound', 'Leather']\n",
      "0.4258 ['Cylinder', 'Doors', 'Cruise', 'Sound', 'Leather']\n",
      "0.4248 ['Mileage', 'Liter', 'Doors', 'Cruise', 'Sound', 'Leather']\n",
      "0.4244 ['Mileage', 'Cylinder', 'Liter', 'Doors', 'Cruise', 'Sound']\n",
      "0.4241 ['Mileage', 'Cylinder', 'Doors', 'Cruise', 'Sound']\n",
      "0.4225 ['Mileage', 'Cylinder', 'Liter', 'Cruise', 'Leather']\n",
      "0.4225 ['Mileage', 'Cylinder', 'Cruise', 'Leather']\n",
      "0.4197 ['Mileage', 'Cylinder', 'Liter', 'Doors', 'Cruise']\n",
      "0.4191 ['Mileage', 'Cylinder', 'Doors', 'Cruise']\n",
      "0.4188 ['Cylinder', 'Liter', 'Doors', 'Cruise', 'Leather']\n",
      "0.4178 ['Cylinder', 'Doors', 'Cruise', 'Leather']\n",
      "0.4165 ['Mileage', 'Liter', 'Cruise', 'Sound', 'Leather']\n",
      "0.4140 ['Mileage', 'Liter', 'Doors', 'Cruise', 'Leather']\n",
      "0.4107 ['Cylinder', 'Liter', 'Cruise', 'Sound', 'Leather']\n",
      "0.4107 ['Cylinder', 'Cruise', 'Sound', 'Leather']\n",
      "0.4068 ['Mileage', 'Liter', 'Cruise', 'Leather']\n",
      "0.4065 ['Mileage', 'Cylinder', 'Liter', 'Cruise', 'Sound']\n",
      "0.4062 ['Mileage', 'Cylinder', 'Cruise', 'Sound']\n",
      "0.4051 ['Cylinder', 'Liter', 'Doors', 'Cruise', 'Sound']\n",
      "0.4046 ['Cylinder', 'Doors', 'Cruise', 'Sound']\n",
      "0.4038 ['Cylinder', 'Liter', 'Cruise', 'Leather']\n",
      "0.4038 ['Cylinder', 'Cruise', 'Leather']\n",
      "0.4035 ['Liter', 'Doors', 'Cruise', 'Sound', 'Leather']\n",
      "0.4031 ['Mileage', 'Liter', 'Doors', 'Cruise', 'Sound']\n",
      "0.4026 ['Mileage', 'Cylinder', 'Liter', 'Cruise']\n",
      "0.4024 ['Mileage', 'Cylinder', 'Cruise']\n",
      "0.4009 ['Cylinder', 'Liter', 'Doors', 'Cruise']\n",
      "0.4002 ['Cylinder', 'Doors', 'Cruise']\n",
      "0.3965 ['Mileage', 'Liter', 'Doors', 'Cruise']\n",
      "0.3956 ['Liter', 'Cruise', 'Sound', 'Leather']\n",
      "0.3935 ['Mileage', 'Liter', 'Cruise', 'Sound']\n",
      "0.3935 ['Liter', 'Doors', 'Cruise', 'Leather']\n",
      "0.3879 ['Mileage', 'Liter', 'Cruise']\n",
      "0.3875 ['Cylinder', 'Liter', 'Cruise', 'Sound']\n",
      "0.3873 ['Cylinder', 'Cruise', 'Sound']\n",
      "0.3867 ['Liter', 'Cruise', 'Leather']\n",
      "0.3841 ['Cylinder', 'Liter', 'Cruise']\n",
      "0.3839 ['Cylinder', 'Cruise']\n",
      "0.3827 ['Mileage', 'Cylinder', 'Liter', 'Doors', 'Sound', 'Leather']\n",
      "0.3826 ['Mileage', 'Cylinder', 'Doors', 'Sound', 'Leather']\n",
      "0.3822 ['Liter', 'Doors', 'Cruise', 'Sound']\n",
      "0.3762 ['Liter', 'Doors', 'Cruise']\n",
      "0.3731 ['Liter', 'Cruise', 'Sound']\n",
      "0.3714 ['Mileage', 'Cylinder', 'Liter', 'Doors', 'Leather']\n",
      "0.3713 ['Mileage', 'Cylinder', 'Doors', 'Leather']\n",
      "0.3680 ['Liter', 'Cruise']\n",
      "0.3677 ['Mileage', 'Cylinder', 'Liter', 'Doors', 'Sound']\n",
      "0.3675 ['Mileage', 'Cylinder', 'Doors', 'Sound']\n",
      "0.3653 ['Mileage', 'Cylinder', 'Liter', 'Sound', 'Leather']\n",
      "0.3652 ['Cylinder', 'Liter', 'Doors', 'Sound', 'Leather']\n",
      "0.3651 ['Cylinder', 'Doors', 'Sound', 'Leather']\n",
      "0.3633 ['Mileage', 'Liter', 'Doors', 'Sound', 'Leather']\n",
      "0.3628 ['Mileage', 'Cylinder', 'Sound', 'Leather']\n",
      "0.3601 ['Mileage', 'Cylinder', 'Liter', 'Doors']\n",
      "0.3600 ['Mileage', 'Cylinder', 'Doors']\n",
      "0.3549 ['Mileage', 'Cylinder', 'Liter', 'Leather']\n",
      "0.3547 ['Cylinder', 'Liter', 'Doors', 'Leather']\n",
      "0.3547 ['Cylinder', 'Doors', 'Leather']\n",
      "0.3536 ['Mileage', 'Liter', 'Sound', 'Leather']\n",
      "0.3530 ['Mileage', 'Cylinder', 'Leather']\n",
      "0.3504 ['Cylinder', 'Liter', 'Doors', 'Sound']\n",
      "0.3503 ['Cylinder', 'Doors', 'Sound']\n",
      "0.3494 ['Mileage', 'Liter', 'Doors', 'Leather']\n",
      "0.3489 ['Mileage', 'Cylinder', 'Liter', 'Sound']\n",
      "0.3483 ['Mileage', 'Liter', 'Doors', 'Sound']\n",
      "0.3481 ['Cylinder', 'Liter', 'Sound', 'Leather']\n",
      "0.3460 ['Cylinder', 'Sound', 'Leather']\n",
      "0.3458 ['Mileage', 'Cylinder', 'Sound']\n",
      "0.3442 ['Liter', 'Doors', 'Sound', 'Leather']\n",
      "0.3435 ['Cylinder', 'Liter', 'Doors']\n",
      "0.3435 ['Cylinder', 'Doors']\n",
      "0.3423 ['Mileage', 'Cylinder', 'Liter']\n",
      "0.3411 ['Mileage', 'Liter', 'Leather']\n",
      "0.3398 ['Mileage', 'Cylinder']\n",
      "0.3386 ['Mileage', 'Liter', 'Doors']\n",
      "0.3385 ['Cylinder', 'Liter', 'Leather']\n",
      "0.3375 ['Mileage', 'Liter', 'Sound']\n",
      "0.3370 ['Cylinder', 'Leather']\n",
      "0.3351 ['Liter', 'Sound', 'Leather']\n",
      "0.3318 ['Cylinder', 'Liter', 'Sound']\n",
      "0.3313 ['Liter', 'Doors', 'Leather']\n",
      "0.3295 ['Liter', 'Doors', 'Sound']\n",
      "0.3293 ['Cylinder', 'Sound']\n",
      "0.3291 ['Mileage', 'Liter']\n",
      "0.3259 ['Cylinder', 'Liter']\n",
      "0.3239 ['Cylinder']\n",
      "0.3234 ['Liter', 'Leather']\n",
      "0.3205 ['Liter', 'Doors']\n",
      "0.3193 ['Liter', 'Sound']\n",
      "0.3115 ['Liter']\n",
      "0.2728 ['Mileage', 'Doors', 'Cruise', 'Sound', 'Leather']\n",
      "0.2594 ['Mileage', 'Cruise', 'Sound', 'Leather']\n",
      "0.2567 ['Mileage', 'Doors', 'Cruise', 'Leather']\n",
      "0.2474 ['Doors', 'Cruise', 'Sound', 'Leather']\n",
      "0.2448 ['Mileage', 'Cruise', 'Leather']\n",
      "0.2346 ['Cruise', 'Sound', 'Leather']\n",
      "0.2334 ['Mileage', 'Doors', 'Cruise', 'Sound']\n",
      "0.2323 ['Doors', 'Cruise', 'Leather']\n",
      "0.2239 ['Mileage', 'Doors', 'Cruise']\n",
      "0.2210 ['Cruise', 'Leather']\n",
      "0.2172 ['Mileage', 'Cruise', 'Sound']\n",
      "0.2093 ['Mileage', 'Cruise']\n",
      "0.2084 ['Doors', 'Cruise', 'Sound']\n",
      "0.1996 ['Doors', 'Cruise']\n",
      "0.1929 ['Cruise', 'Sound']\n",
      "0.1856 ['Cruise']\n",
      "0.0893 ['Mileage', 'Doors', 'Sound', 'Leather']\n",
      "0.0697 ['Mileage', 'Sound', 'Leather']\n",
      "0.0669 ['Doors', 'Sound', 'Leather']\n",
      "0.0626 ['Mileage', 'Doors', 'Leather']\n",
      "0.0593 ['Mileage', 'Doors', 'Sound']\n",
      "0.0480 ['Sound', 'Leather']\n",
      "0.0452 ['Mileage', 'Leather']\n",
      "0.0414 ['Doors', 'Leather']\n",
      "0.0404 ['Mileage', 'Doors']\n",
      "0.0370 ['Doors', 'Sound']\n",
      "0.0369 ['Mileage', 'Sound']\n",
      "0.0247 ['Leather']\n",
      "0.0205 ['Mileage']\n",
      "0.0193 ['Doors']\n",
      "0.0155 ['Sound']\n"
     ]
    }
   ],
   "source": [
    "for x in score_sort[:]:\n",
    "    print(str(round(x[1].score(np.array(df[x[0]]), np.array(df[['Price']])), 4)).ljust(6, '0'), x[0])"
   ]
  },
  {
   "cell_type": "markdown",
   "metadata": {},
   "source": [
    "From this we see that all of the numbers actually provide the closest correlation at .4457, but highest single factor is the number of Cylinders at .3239 (followed closely, as could be expected, by the number of Liters."
   ]
  },
  {
   "cell_type": "markdown",
   "metadata": {},
   "source": [
    "##### Research dummy variables in scikit-learn to see how to use the make, model, and body type."
   ]
  },
  {
   "cell_type": "code",
   "execution_count": 12,
   "metadata": {
    "collapsed": false
   },
   "outputs": [],
   "source": [
    "df2 = df\n",
    "for col in df2.columns[2:6]:\n",
    "    for attr in df2[col].unique():\n",
    "        df2[attr] = [int(x == attr) for x in df2[col]]\n",
    "    del df2[col]"
   ]
  },
  {
   "cell_type": "code",
   "execution_count": 44,
   "metadata": {
    "collapsed": false
   },
   "outputs": [],
   "source": [
    "regrs = [linear_model.LinearRegression() \\\n",
    "         .fit(np.array(df2[[cols]]), np.array(df[['Price']]))\n",
    "         for cols in df2.columns[1:]]\n",
    "score_sort = sorted(list(zip(df2.columns[1:], regrs)), key=lambda x: \n",
    "                    x[1].score(np.array(df2[[x[0]]]), \n",
    "                               np.array(df2[['Price']])), \n",
    "                    reverse=True)"
   ]
  },
  {
   "cell_type": "code",
   "execution_count": 48,
   "metadata": {
    "collapsed": false
   },
   "outputs": [
    {
     "name": "stdout",
     "output_type": "stream",
     "text": [
      "0.4347 Cadillac\n",
      "0.3239 Cylinder\n",
      "0.3115 Liter\n",
      "0.2581 Convertible\n",
      "0.2233 XLR-V8\n",
      "0.2233 Hardtop Conv 2D\n",
      "0.1856 Cruise\n",
      "0.1637 Chevrolet\n",
      "0.1125 SAAB\n",
      "0.0927 AVEO\n"
     ]
    }
   ],
   "source": [
    "for x in score_sort[:10]:\n",
    "    print(str(round(x[1].score(np.array(df[[x[0]]]), np.array(df2[['Price']])), 4)).ljust(6, '0'), x[0])"
   ]
  },
  {
   "cell_type": "markdown",
   "metadata": {
    "collapsed": true
   },
   "source": [
    "From this data we see that it would help to include whether or not a car is a Cadillac in the data.  I want to include Convertible and Chevorlet as well, but I'll exclude XLR-V8 because it's included with Cadillac and Hardtop Conv 2D because it's included with Convertible."
   ]
  },
  {
   "cell_type": "code",
   "execution_count": 51,
   "metadata": {
    "collapsed": false
   },
   "outputs": [],
   "source": [
    "cols3 = cols + ['Cadillac', 'Convertible', 'Chevrolet']\n",
    "combos3 = [list(itertools.combinations(cols3, sz)) for sz in range(1, 10)]\n",
    "combos3 = list(itertools.chain.from_iterable(combos3))\n",
    "combo_combo3 = [list(x) for x in combos3]\n",
    "regrs3 = [linear_model.LinearRegression() \\\n",
    "         .fit(np.array(df2[cols]), np.array(df2[['Price']]))\n",
    "         for cols in combo_combo3]\n",
    "score_sort3 = sorted(list(zip(combo_combo3, regrs3)), key=lambda x: \n",
    "                    x[1].score(np.array(df2[x[0]]), \n",
    "                               np.array(df2[['Price']])), \n",
    "                    reverse=True)"
   ]
  },
  {
   "cell_type": "code",
   "execution_count": 54,
   "metadata": {
    "collapsed": false
   },
   "outputs": [
    {
     "name": "stdout",
     "output_type": "stream",
     "text": [
      "0.8300 ['Mileage', 'Cylinder', 'Liter', 'Doors', 'Cruise', 'Leather', 'Cadillac', 'Convertible', 'Chevrolet']\n",
      "0.8268 ['Mileage', 'Cylinder', 'Liter', 'Doors', 'Cruise', 'Sound', 'Cadillac', 'Convertible', 'Chevrolet']\n",
      "0.8268 ['Mileage', 'Cylinder', 'Liter', 'Doors', 'Cruise', 'Cadillac', 'Convertible', 'Chevrolet']\n",
      "0.8264 ['Mileage', 'Cylinder', 'Liter', 'Cruise', 'Sound', 'Leather', 'Cadillac', 'Convertible', 'Chevrolet']\n",
      "0.8262 ['Mileage', 'Cylinder', 'Liter', 'Cruise', 'Leather', 'Cadillac', 'Convertible', 'Chevrolet']\n",
      "0.8231 ['Mileage', 'Cylinder', 'Liter', 'Cruise', 'Sound', 'Cadillac', 'Convertible', 'Chevrolet']\n",
      "0.8231 ['Mileage', 'Cylinder', 'Liter', 'Cruise', 'Cadillac', 'Convertible', 'Chevrolet']\n",
      "0.8173 ['Mileage', 'Cylinder', 'Liter', 'Doors', 'Sound', 'Leather', 'Cadillac', 'Convertible', 'Chevrolet']\n",
      "0.8172 ['Mileage', 'Cylinder', 'Liter', 'Doors', 'Leather', 'Cadillac', 'Convertible', 'Chevrolet']\n",
      "0.8149 ['Mileage', 'Cylinder', 'Liter', 'Doors', 'Sound', 'Cadillac', 'Convertible', 'Chevrolet']\n"
     ]
    }
   ],
   "source": [
    "for x in score_sort3[:10]:\n",
    "    print(str(round(x[1].score(np.array(df[x[0]]), np.array(df2[['Price']])), 4)).ljust(6, '0'), x[0])"
   ]
  },
  {
   "cell_type": "markdown",
   "metadata": {},
   "source": [
    "From this data, we see that adding whether or not a car was a Cadillac or Convertible or Chevrolet increased our correlation to price above .80 to give us a respectably strong correlation.  We also see that we would still be in the acceptable range with out taking into account the number of doors or leather or upgraded sound."
   ]
  }
 ],
 "metadata": {
  "kernelspec": {
   "display_name": "Python 3",
   "language": "python",
   "name": "python3"
  },
  "language_info": {
   "codemirror_mode": {
    "name": "ipython",
    "version": 3
   },
   "file_extension": ".py",
   "mimetype": "text/x-python",
   "name": "python",
   "nbconvert_exporter": "python",
   "pygments_lexer": "ipython3",
   "version": "3.4.3"
  }
 },
 "nbformat": 4,
 "nbformat_minor": 0
}
